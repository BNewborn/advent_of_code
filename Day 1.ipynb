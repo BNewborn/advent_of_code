{
 "cells": [
  {
   "cell_type": "code",
   "execution_count": 1,
   "metadata": {
    "ExecuteTime": {
     "end_time": "2020-12-02T16:57:00.044028Z",
     "start_time": "2020-12-02T16:57:00.024491Z"
    }
   },
   "outputs": [
    {
     "name": "stdout",
     "output_type": "stream",
     "text": [
      "\n",
      "import pandas as pd\n",
      "import seaborn as sns\n",
      "from matplotlib import pyplot as plt\n",
      "import numpy as np\n",
      "import os\n",
      "\n",
      "import re\n",
      "import time \n",
      "\n",
      "from pprint import pprint\n",
      "\n",
      "\n"
     ]
    }
   ],
   "source": [
    "print(packages_import_statement)"
   ]
  },
  {
   "cell_type": "code",
   "execution_count": 2,
   "metadata": {
    "ExecuteTime": {
     "end_time": "2020-12-02T16:57:03.485360Z",
     "start_time": "2020-12-02T16:57:03.480245Z"
    }
   },
   "outputs": [],
   "source": [
    "\"https://adventofcode.com/2020/day/1\""
   ]
  },
  {
   "cell_type": "code",
   "execution_count": 17,
   "metadata": {
    "ExecuteTime": {
     "end_time": "2020-12-02T17:03:34.140342Z",
     "start_time": "2020-12-02T17:03:34.135006Z"
    }
   },
   "outputs": [],
   "source": [
    "##PART 1\n",
    "expense_report ='''1939\n",
    "1585\n",
    "1712\n",
    "1600\n",
    "1370\n",
    "1447\n",
    "1247\n",
    "1446\n",
    "1323\n",
    "1713\n",
    "1277\n",
    "1946\n",
    "1677\n",
    "1428\n",
    "1231\n",
    "1481\n",
    "1976\n",
    "1709\n",
    "1508\n",
    "1668\n",
    "1302\n",
    "77\n",
    "1351\n",
    "1605\n",
    "1999\n",
    "1982\n",
    "1583\n",
    "1756\n",
    "1957\n",
    "1624\n",
    "1745\n",
    "1938\n",
    "1784\n",
    "1403\n",
    "1642\n",
    "1691\n",
    "569\n",
    "1762\n",
    "1555\n",
    "1937\n",
    "1383\n",
    "1897\n",
    "1334\n",
    "1965\n",
    "1683\n",
    "1475\n",
    "1776\n",
    "1791\n",
    "1707\n",
    "1987\n",
    "1233\n",
    "1416\n",
    "1769\n",
    "1345\n",
    "1874\n",
    "1255\n",
    "1744\n",
    "1944\n",
    "1404\n",
    "1360\n",
    "1304\n",
    "1417\n",
    "1977\n",
    "1656\n",
    "790\n",
    "1788\n",
    "1353\n",
    "1296\n",
    "1673\n",
    "1810\n",
    "1684\n",
    "1742\n",
    "1425\n",
    "1887\n",
    "1444\n",
    "1352\n",
    "1229\n",
    "1414\n",
    "1493\n",
    "1402\n",
    "1947\n",
    "1669\n",
    "1412\n",
    "1531\n",
    "1474\n",
    "1637\n",
    "1314\n",
    "1607\n",
    "1829\n",
    "1923\n",
    "1949\n",
    "1757\n",
    "1307\n",
    "1714\n",
    "1748\n",
    "1550\n",
    "1372\n",
    "1615\n",
    "1235\n",
    "1272\n",
    "1408\n",
    "1749\n",
    "1687\n",
    "1613\n",
    "1528\n",
    "1561\n",
    "341\n",
    "1308\n",
    "1660\n",
    "1667\n",
    "1313\n",
    "1991\n",
    "1675\n",
    "1394\n",
    "1704\n",
    "1303\n",
    "1440\n",
    "1592\n",
    "1857\n",
    "1752\n",
    "1839\n",
    "1397\n",
    "1699\n",
    "1426\n",
    "1878\n",
    "1759\n",
    "1814\n",
    "1096\n",
    "372\n",
    "1596\n",
    "1500\n",
    "1774\n",
    "1627\n",
    "1696\n",
    "1851\n",
    "1020\n",
    "1819\n",
    "1292\n",
    "1616\n",
    "1672\n",
    "1279\n",
    "1543\n",
    "1526\n",
    "1682\n",
    "1568\n",
    "1582\n",
    "1921\n",
    "922\n",
    "1773\n",
    "1482\n",
    "1238\n",
    "1973\n",
    "1517\n",
    "1909\n",
    "409\n",
    "1634\n",
    "1468\n",
    "1445\n",
    "1801\n",
    "1631\n",
    "1407\n",
    "1820\n",
    "1603\n",
    "1495\n",
    "1333\n",
    "1241\n",
    "1849\n",
    "82\n",
    "1339\n",
    "1413\n",
    "90\n",
    "1662\n",
    "1291\n",
    "1740\n",
    "1340\n",
    "1365\n",
    "2003\n",
    "1546\n",
    "1621\n",
    "1650\n",
    "1518\n",
    "1807\n",
    "1382\n",
    "1433\n",
    "1968\n",
    "1940\n",
    "1986\n",
    "1437\n",
    "1651\n",
    "1237\n",
    "1862\n",
    "1409\n",
    "1200\n",
    "2002\n",
    "2009\n",
    "1735\n",
    "1487\n",
    "1706\n",
    "1643\n",
    "1505\n",
    "'''"
   ]
  },
  {
   "cell_type": "code",
   "execution_count": 18,
   "metadata": {
    "ExecuteTime": {
     "end_time": "2020-12-02T17:03:34.886822Z",
     "start_time": "2020-12-02T17:03:34.877758Z"
    }
   },
   "outputs": [
    {
     "data": {
      "text/plain": [
       "[1939, 1585, 1712, 1600, 1370]"
      ]
     },
     "execution_count": 18,
     "metadata": {},
     "output_type": "execute_result"
    }
   ],
   "source": [
    "expense_report_list = [int(x) for x in expense_report.split(\"\\n\") if len(x)>1] #remove empty strings\n",
    "expense_report_list[0:5]"
   ]
  },
  {
   "cell_type": "code",
   "execution_count": 19,
   "metadata": {
    "ExecuteTime": {
     "end_time": "2020-12-02T17:03:35.034073Z",
     "start_time": "2020-12-02T17:03:35.016797Z"
    }
   },
   "outputs": [
    {
     "name": "stdout",
     "output_type": "stream",
     "text": [
      "i: 1938, j: 82, i*j=158916\n"
     ]
    }
   ],
   "source": [
    "for i_idx, i in enumerate(expense_report_list):\n",
    "    for j in expense_report_list[i_idx:]:\n",
    "        if i + j == 2020:\n",
    "            print(f\"i: {i}, j: {j}, i*j={i*j}\")"
   ]
  },
  {
   "cell_type": "code",
   "execution_count": 21,
   "metadata": {
    "ExecuteTime": {
     "end_time": "2020-12-02T17:04:36.068910Z",
     "start_time": "2020-12-02T17:04:35.695752Z"
    }
   },
   "outputs": [
    {
     "name": "stdout",
     "output_type": "stream",
     "text": [
      "i: 1307, j: 341, k: 372, i*j*k=165795564\n",
      "i: 1307, j: 372, k: 341, i*j*k=165795564\n",
      "i: 341, j: 372, k: 1307, i*j*k=165795564\n"
     ]
    }
   ],
   "source": [
    "## Part 2\n",
    "for i_idx, i in enumerate(expense_report_list):\n",
    "    for j_idx, j in enumerate(expense_report_list[i_idx:]):\n",
    "        for k in expense_report_list[j_idx:]:\n",
    "            if i + j + k == 2020:\n",
    "                print(f\"i: {i}, j: {j}, k: {k}, i*j*k={i*j*k}\")"
   ]
  },
  {
   "cell_type": "code",
   "execution_count": null,
   "metadata": {},
   "outputs": [],
   "source": []
  }
 ],
 "metadata": {
  "kernelspec": {
   "display_name": "Python 3",
   "language": "python",
   "name": "python3"
  },
  "language_info": {
   "codemirror_mode": {
    "name": "ipython",
    "version": 3
   },
   "file_extension": ".py",
   "mimetype": "text/x-python",
   "name": "python",
   "nbconvert_exporter": "python",
   "pygments_lexer": "ipython3",
   "version": "3.7.6"
  }
 },
 "nbformat": 4,
 "nbformat_minor": 4
}
