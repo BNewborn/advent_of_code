{
 "cells": [
  {
   "cell_type": "markdown",
   "metadata": {},
   "source": [
    "https://adventofcode.com/2020/day/10"
   ]
  },
  {
   "cell_type": "markdown",
   "metadata": {},
   "source": [
    "--- Day 10: Adapter Array ---\n",
    "\n",
    "Patched into the aircraft's data port, you discover weather forecasts of a massive tropical storm. Before you can figure out whether it will impact your vacation plans, however, your device suddenly turns off!\n",
    "\n",
    "Its battery is dead.\n",
    "\n",
    "You'll need to plug it in. There's only one problem: the charging outlet near your seat produces the wrong number of jolts. Always prepared, you make a list of all of the joltage adapters in your bag.\n",
    "\n",
    "Each of your joltage adapters is rated for a specific output joltage (your puzzle input). Any given adapter can take an input 1, 2, or 3 jolts lower than its rating and still produce its rated output joltage.\n",
    "\n",
    "In addition, your device has a built-in joltage adapter rated for 3 jolts higher than the highest-rated adapter in your bag. (If your adapter list were 3, 9, and 6, your device's built-in adapter would be rated for 12 jolts.)\n",
    "\n",
    "Treat the charging outlet near your seat as having an effective joltage rating of 0.\n",
    "\n",
    "Since you have some time to kill, you might as well test all of your adapters. Wouldn't want to get to your resort and realize you can't even charge your device!\n",
    "\n",
    "If you use every adapter in your bag at once, what is the distribution of joltage differences between the charging outlet, the adapters, and your device?\n",
    "\n",
    "For example, suppose that in your bag, you have adapters with the following joltage ratings:\n",
    "\n",
    "16\n",
    "10\n",
    "15\n",
    "5\n",
    "1\n",
    "11\n",
    "7\n",
    "19\n",
    "6\n",
    "12\n",
    "4\n",
    "\n",
    "With these adapters, your device's built-in joltage adapter would be rated for 19 + 3 = 22 jolts, 3 higher than the highest-rated adapter.\n",
    "\n",
    "Because adapters can only connect to a source 1-3 jolts lower than its rating, in order to use every adapter, you'd need to choose them like this:\n",
    "\n",
    "    The charging outlet has an effective rating of 0 jolts, so the only adapters that could connect to it directly would need to have a joltage rating of 1, 2, or 3 jolts. Of these, only one you have is an adapter rated 1 jolt (difference of 1).\n",
    "    From your 1-jolt rated adapter, the only choice is your 4-jolt rated adapter (difference of 3).\n",
    "    From the 4-jolt rated adapter, the adapters rated 5, 6, or 7 are valid choices. However, in order to not skip any adapters, you have to pick the adapter rated 5 jolts (difference of 1).\n",
    "    Similarly, the next choices would need to be the adapter rated 6 and then the adapter rated 7 (with difference of 1 and 1).\n",
    "    The only adapter that works with the 7-jolt rated adapter is the one rated 10 jolts (difference of 3).\n",
    "    From 10, the choices are 11 or 12; choose 11 (difference of 1) and then 12 (difference of 1).\n",
    "    After 12, only valid adapter has a rating of 15 (difference of 3), then 16 (difference of 1), then 19 (difference of 3).\n",
    "    Finally, your device's built-in adapter is always 3 higher than the highest adapter, so its rating is 22 jolts (always a difference of 3).\n",
    "\n",
    "In this example, when using every adapter, there are 7 differences of 1 jolt and 5 differences of 3 jolts.\n",
    "\n",
    "Here is a larger example:\n",
    "\n",
    "28\n",
    "33\n",
    "18\n",
    "42\n",
    "31\n",
    "14\n",
    "46\n",
    "20\n",
    "48\n",
    "47\n",
    "24\n",
    "23\n",
    "49\n",
    "45\n",
    "19\n",
    "38\n",
    "39\n",
    "11\n",
    "1\n",
    "32\n",
    "25\n",
    "35\n",
    "8\n",
    "17\n",
    "7\n",
    "9\n",
    "4\n",
    "2\n",
    "34\n",
    "10\n",
    "3\n",
    "\n",
    "In this larger example, in a chain that uses all of the adapters, there are 22 differences of 1 jolt and 10 differences of 3 jolts.\n",
    "\n",
    "Find a chain that uses all of your adapters to connect the charging outlet to your device's built-in adapter and count the joltage differences between the charging outlet, the adapters, and your device. What is the number of 1-jolt differences multiplied by the number of 3-jolt differences?\n"
   ]
  },
  {
   "cell_type": "code",
   "execution_count": 1,
   "metadata": {
    "ExecuteTime": {
     "end_time": "2020-12-11T16:13:50.881715Z",
     "start_time": "2020-12-11T16:13:50.865699Z"
    }
   },
   "outputs": [],
   "source": [
    "from collections import Counter"
   ]
  },
  {
   "cell_type": "code",
   "execution_count": 2,
   "metadata": {
    "ExecuteTime": {
     "end_time": "2020-12-11T16:13:50.957192Z",
     "start_time": "2020-12-11T16:13:50.909139Z"
    }
   },
   "outputs": [
    {
     "data": {
      "text/plain": [
       "Counter({1: 7, 3: 5})"
      ]
     },
     "execution_count": 2,
     "metadata": {},
     "output_type": "execute_result"
    }
   ],
   "source": [
    "test_list = [16,10, 15, 5, 1, 11, 7, 19, 6, 12, 4]\n",
    "test_list.append(0)\n",
    "sorted_test_list = sorted(test_list)\n",
    "device_jolt_adapter = max(sorted_test_list)+3\n",
    "sorted_test_list.append(device_jolt_adapter)\n",
    "jolt_dist = Counter()\n",
    "for a_idx, a in enumerate(sorted_test_list):\n",
    "    if a_idx + 1 < len(sorted_test_list):\n",
    "#         print(a)\n",
    "        jolt_dist[sorted_test_list[a_idx+1]-a]+=1\n",
    "jolt_dist"
   ]
  },
  {
   "cell_type": "code",
   "execution_count": 3,
   "metadata": {
    "ExecuteTime": {
     "end_time": "2020-12-11T16:13:51.037695Z",
     "start_time": "2020-12-11T16:13:50.987340Z"
    }
   },
   "outputs": [
    {
     "data": {
      "text/plain": [
       "Counter({1: 22, 3: 10})"
      ]
     },
     "execution_count": 3,
     "metadata": {},
     "output_type": "execute_result"
    }
   ],
   "source": [
    "# Test Case 2\n",
    "test_list =['28', '33', '18', '42','31', '14', '46', '20', '48', '47', '24', '23', '49', '45', '19', '38', '39', '11', '1', '32', '25', '35', '8', '17', '7', '9', '4','2', '34', '10', '3']\n",
    "test_list = [int(x) for x in test_list]\n",
    "\n",
    "#Add 0 -plug in and max+3 - device\n",
    "test_list.append(0)\n",
    "sorted_test_list = sorted(test_list)\n",
    "device_jolt_adapter = max(sorted_test_list)+3\n",
    "sorted_test_list.append(device_jolt_adapter)\n",
    "\n",
    "jolt_dist = Counter()\n",
    "for a_idx, a in enumerate(sorted_test_list):\n",
    "    if a_idx + 1 < len(sorted_test_list):\n",
    "        jolt_dist[sorted_test_list[a_idx+1]-a]+=1\n",
    "jolt_dist"
   ]
  },
  {
   "cell_type": "code",
   "execution_count": 4,
   "metadata": {
    "ExecuteTime": {
     "end_time": "2020-12-11T16:13:51.071344Z",
     "start_time": "2020-12-11T16:13:51.056707Z"
    }
   },
   "outputs": [],
   "source": [
    "### PART 1"
   ]
  },
  {
   "cell_type": "code",
   "execution_count": 5,
   "metadata": {
    "ExecuteTime": {
     "end_time": "2020-12-11T16:13:51.089106Z",
     "start_time": "2020-12-11T16:13:51.078972Z"
    }
   },
   "outputs": [
    {
     "name": "stdout",
     "output_type": "stream",
     "text": [
      "Resulting Distribution Counter({1: 75, 3: 32})\n",
      "1-Jolt Diff * 3-Jolt Diff: 2400\n"
     ]
    }
   ],
   "source": [
    "with open('./data/day10_input.txt', 'r',newline=\"\\n\") as reader:\n",
    "    jolts = reader.readlines()\n",
    "jolts=[int(x) for x in jolts]\n",
    "jolts[1:5]\n",
    "\n",
    "#Add 0 -plug in and max+3 - device\n",
    "jolts.append(0)\n",
    "jolts = sorted(jolts)\n",
    "device_jolt_adapter = max(jolts)+3\n",
    "jolts.append(device_jolt_adapter)\n",
    "\n",
    "jolt_dist = Counter()\n",
    "for a_idx, a in enumerate(jolts):\n",
    "    if a_idx + 1 < len(jolts):\n",
    "        jolt_dist[jolts[a_idx+1]-a]+=1\n",
    "print(f\"Resulting Distribution\",jolt_dist)\n",
    "print(f\"1-Jolt Diff * 3-Jolt Diff: {jolt_dist[1] * jolt_dist[3]}\")"
   ]
  },
  {
   "cell_type": "markdown",
   "metadata": {},
   "source": [
    "#### PART 2\n",
    "\n",
    "To completely determine whether you have enough adapters, you'll need to figure out how many different ways they can be arranged. Every arrangement needs to connect the charging outlet to your device. The previous rules about when adapters can successfully connect still apply.\n",
    "\n",
    "The first example above (the one that starts with 16, 10, 15) supports the following arrangements:\n",
    "\n",
    "```\n",
    "(0), 1, 4, 5, 6, 7, 10, 11, 12, 15, 16, 19, (22)\n",
    "(0), 1, 4, 5, 6, 7, 10, 12, 15, 16, 19, (22)\n",
    "(0), 1, 4, 5, 7, 10, 11, 12, 15, 16, 19, (22)\n",
    "(0), 1, 4, 5, 7, 10, 12, 15, 16, 19, (22)\n",
    "(0), 1, 4, 6, 7, 10, 11, 12, 15, 16, 19, (22)\n",
    "(0), 1, 4, 6, 7, 10, 12, 15, 16, 19, (22)\n",
    "(0), 1, 4, 7, 10, 11, 12, 15, 16, 19, (22)\n",
    "(0), 1, 4, 7, 10, 12, 15, 16, 19, (22)```\n",
    "\n",
    "You can make 8 combinations with these"
   ]
  },
  {
   "cell_type": "code",
   "execution_count": 6,
   "metadata": {
    "ExecuteTime": {
     "end_time": "2020-12-11T16:13:51.132880Z",
     "start_time": "2020-12-11T16:13:51.105113Z"
    }
   },
   "outputs": [],
   "source": [
    "from itertools import combinations"
   ]
  },
  {
   "cell_type": "code",
   "execution_count": 7,
   "metadata": {
    "ExecuteTime": {
     "end_time": "2020-12-11T16:13:51.173940Z",
     "start_time": "2020-12-11T16:13:51.154054Z"
    }
   },
   "outputs": [
    {
     "name": "stdout",
     "output_type": "stream",
     "text": [
      "[4 5 6 7]\n",
      "\t [(4, 7), (4, 5, 7), (4, 6, 7), (4, 5, 6, 7)]\n",
      "************************************************************\n",
      "[10 11 12]\n",
      "\t [(10, 12), (10, 11, 12)]\n",
      "************************************************************\n",
      "[15 16]\n",
      "\t [(15, 16)]\n",
      "************************************************************\n",
      "For this case, num possible paths=8\n"
     ]
    }
   ],
   "source": [
    "test_list = [16,10, 15, 5, 1, 11, 7, 19, 6, 12, 4]\n",
    "# test_list.append(0)\n",
    "\n",
    "## Convert to numpy, add max device num at end (though I dont know if that's \n",
    "# necessary since it's always 3 more than max) - I think i can leave it commented out\n",
    "test_array = np.array(test_list)\n",
    "# test_array=np.append(test_array,test_array.max()+3)\n",
    "\n",
    "#Sort list of adapters\n",
    "test_array.sort()\n",
    "\n",
    "## This one I found help on - I am looking to split the adapter \n",
    "#list to make groupings where there are consecutive ones. Luckily np.split can do this pretty easily\n",
    "one_groupings = np.split(test_array,np.where(np.diff(test_array) != 1)[0]+1)\n",
    "\n",
    "#Filter out groupings that are only 1 number (numbers that are 3 more than prev and 3 less than next)\n",
    "one_groupings = [x for x in one_groupings if len(x)>1]\n",
    "possible_path_ct = 1\n",
    "#Loop through all of these groupings\n",
    "for possible_paths in one_groupings:\n",
    "    print(possible_paths)\n",
    "    #create storage list for paths within this that work\n",
    "    intra_path_groups = list()\n",
    "    #Loop through all possible lengths of combinations\n",
    "    for i in range(2,len(possible_paths)+1):\n",
    "        #loop through all combinations of that length\n",
    "        for p in list(combinations(possible_paths,i)):\n",
    "            #if combination is 2 or more, and has group min and max as start and finish, it should be good\n",
    "            if len(p)>=2 and p[0]==possible_paths.min() and p[-1]==possible_paths.max():\n",
    "                intra_path_groups.append(p)\n",
    "    print(\"\\t\",intra_path_groups)\n",
    "    possible_path_ct*=len(intra_path_groups)\n",
    "    print(\"**\"*30)\n",
    "print(f\"For this case, num possible paths={possible_path_ct}\")"
   ]
  },
  {
   "cell_type": "code",
   "execution_count": 8,
   "metadata": {
    "ExecuteTime": {
     "end_time": "2020-12-11T16:13:51.212684Z",
     "start_time": "2020-12-11T16:13:51.190126Z"
    }
   },
   "outputs": [
    {
     "name": "stdout",
     "output_type": "stream",
     "text": [
      "[ True False]\n"
     ]
    },
    {
     "data": {
      "text/plain": [
       "True"
      ]
     },
     "execution_count": 8,
     "metadata": {},
     "output_type": "execute_result"
    }
   ],
   "source": [
    "a = np.array([45, 49,50])\n",
    "c = np.diff(a)>3\n",
    "print(c)\n",
    "c.any()"
   ]
  },
  {
   "cell_type": "code",
   "execution_count": 9,
   "metadata": {
    "ExecuteTime": {
     "end_time": "2020-12-11T16:13:51.269477Z",
     "start_time": "2020-12-11T16:13:51.220080Z"
    }
   },
   "outputs": [
    {
     "name": "stdout",
     "output_type": "stream",
     "text": [
      "[ 0  1  2  3  4  7  8  9 10 11 14 17 18 19 20 23 24 25 28 31 32 33 34 35\n",
      " 38 39 42 45 46 47 48 49 52]\n",
      "\n",
      "[0 1 2 3 4]\n",
      "\t 7 ||||| [(0, 1, 4), (0, 2, 4), (0, 3, 4), (0, 1, 2, 4), (0, 1, 3, 4), (0, 2, 3, 4), (0, 1, 2, 3, 4)]\n",
      "Possible Paths up to this point: 7\n",
      "************************************************************\n",
      "[ 7  8  9 10 11]\n",
      "\t 7 ||||| [(7, 8, 11), (7, 9, 11), (7, 10, 11), (7, 8, 9, 11), (7, 8, 10, 11), (7, 9, 10, 11), (7, 8, 9, 10, 11)]\n",
      "Possible Paths up to this point: 49\n",
      "************************************************************\n",
      "[17 18 19 20]\n",
      "\t 4 ||||| [(17, 20), (17, 18, 20), (17, 19, 20), (17, 18, 19, 20)]\n",
      "Possible Paths up to this point: 196\n",
      "************************************************************\n",
      "[23 24 25]\n",
      "\t 2 ||||| [(23, 25), (23, 24, 25)]\n",
      "Possible Paths up to this point: 392\n",
      "************************************************************\n",
      "[31 32 33 34 35]\n",
      "\t 7 ||||| [(31, 32, 35), (31, 33, 35), (31, 34, 35), (31, 32, 33, 35), (31, 32, 34, 35), (31, 33, 34, 35), (31, 32, 33, 34, 35)]\n",
      "Possible Paths up to this point: 2744\n",
      "************************************************************\n",
      "[38 39]\n",
      "\t 1 ||||| [(38, 39)]\n",
      "Possible Paths up to this point: 2744\n",
      "************************************************************\n",
      "[45 46 47 48 49]\n",
      "\t 7 ||||| [(45, 46, 49), (45, 47, 49), (45, 48, 49), (45, 46, 47, 49), (45, 46, 48, 49), (45, 47, 48, 49), (45, 46, 47, 48, 49)]\n",
      "Possible Paths up to this point: 19208\n",
      "************************************************************\n",
      "For this case, num possible paths=19208\n"
     ]
    }
   ],
   "source": [
    "### TEST CASE 2, PART 2\n",
    "# Test Case 2\n",
    "test_list =[28,33,18,42,31,14,46,20,48,47,24,23,49,45,19,38,39,11,1,32,25,35,8,17,7,9,4,2,34,10,3]\n",
    "test_list = [int(x) for x in test_list]\n",
    "test_list.append(0)\n",
    "test_list.append(max(test_list)+3)\n",
    "\n",
    "\n",
    "## Convert to numpy, add max device num at end (though I dont know if that's \n",
    "# necessary since it's always 3 more than max) - I think i can leave it commented out\n",
    "test_array = np.array(test_list)\n",
    "# test_array=np.append(test_array,test_array.max()+3)\n",
    "\n",
    "#Sort list of adapters\n",
    "test_array.sort()\n",
    "print(test_array)\n",
    "print()\n",
    "\n",
    "## This one I found help on - I am looking to split the adapter \n",
    "#list to make groupings where there are consecutive ones. Luckily np.split can do this pretty easily\n",
    "one_groupings = np.split(test_array,np.where(np.diff(test_array) != 1)[0]+1)\n",
    "\n",
    "#Filter out groupings that are only 1 number (numbers that are 3 more than prev and 3 less than next)\n",
    "one_groupings = [x for x in one_groupings if len(x)>1]\n",
    "possible_path_ct = 1\n",
    "#Loop through all of these groupings\n",
    "for possible_paths in one_groupings:\n",
    "    print(possible_paths)\n",
    "    #create storage list for paths within this that work\n",
    "    intra_path_groups = list()\n",
    "    #Loop through all possible lengths of combinations\n",
    "    for i in range(len(possible_paths)+1):\n",
    "        #loop through all combinations of that length\n",
    "        for p in list(combinations(possible_paths,i)):\n",
    "            #Remove any with distances of > 3\n",
    "            c = np.diff(p)<=3\n",
    "#             print(p,c)\n",
    "            #if no distances of more than 3, \n",
    "            # and combination is 2 or more, and has group min and max as start and finish, it should be good\n",
    "            if c.all() and len(p)>=2 \\\n",
    "            and p[0]==possible_paths.min() and p[-1]==possible_paths.max():\n",
    "                intra_path_groups.append(p)\n",
    "    print(\"\\t\",len(intra_path_groups),\"|||||\",intra_path_groups)\n",
    "    possible_path_ct*=len(intra_path_groups)\n",
    "    print(f\"Possible Paths up to this point: {possible_path_ct}\")\n",
    "    \n",
    "    print(\"**\"*30)\n",
    "print(f\"For this case, num possible paths={possible_path_ct}\")"
   ]
  },
  {
   "cell_type": "code",
   "execution_count": 10,
   "metadata": {
    "ExecuteTime": {
     "end_time": "2020-12-11T16:13:51.331443Z",
     "start_time": "2020-12-11T16:13:51.299373Z"
    }
   },
   "outputs": [],
   "source": [
    "## PART 2\n",
    "def part_2(inp_list):\n",
    "    inp_list = [int(x) for x in inp_list]\n",
    "    #add input val\n",
    "    inp_list.append(0)\n",
    "    #add device adapter\n",
    "    inp_list.append(max(inp_list)+3)\n",
    "\n",
    "\n",
    "    ## Convert to numpy, add max device num at end (though I dont know if that's \n",
    "    # necessary since it's always 3 more than max) - I think i can leave it commented out\n",
    "    inp_list = np.array(inp_list)\n",
    "    # test_array=np.append(test_array,test_array.max()+3)\n",
    "\n",
    "    #Sort list of adapters\n",
    "    inp_list.sort()\n",
    "\n",
    "    ## This one I found help on - I am looking to split the adapter \n",
    "    #list to make groupings where there are consecutive ones. Luckily np.split can do this pretty easily\n",
    "    one_groupings = np.split(inp_list,np.where(np.diff(inp_list) != 1)[0]+1)\n",
    "\n",
    "    #Filter out groupings that are only 1 number (numbers that are 3 more than prev and 3 less than next)\n",
    "    one_groupings = [x for x in one_groupings if len(x)>1]\n",
    "    possible_path_ct = 1\n",
    "    #Loop through all of these groupings\n",
    "    for possible_paths in one_groupings:\n",
    "#         print(possible_paths)\n",
    "        #create storage list for paths within this that work\n",
    "        intra_path_groups = list()\n",
    "        #Loop through all possible lengths of combinations\n",
    "        for i in range(len(possible_paths)+1):\n",
    "            #loop through all combinations of that length\n",
    "            for p in list(combinations(possible_paths,i)):\n",
    "                #Remove any with distances of > 3\n",
    "                c = np.diff(p)<=3\n",
    "\n",
    "                #if no distances of more than 3, \n",
    "                # and combination is 2 or more, and has group min and max as start and finish, it should be good\n",
    "                if c.all() and len(p)>=2 \\\n",
    "                and p[0]==possible_paths.min() and p[-1]==possible_paths.max():\n",
    "                    intra_path_groups.append(p)\n",
    "\n",
    "        possible_path_ct*=len(intra_path_groups)\n",
    "    return possible_path_ct"
   ]
  },
  {
   "cell_type": "code",
   "execution_count": 11,
   "metadata": {
    "ExecuteTime": {
     "end_time": "2020-12-11T16:13:51.367907Z",
     "start_time": "2020-12-11T16:13:51.355625Z"
    }
   },
   "outputs": [
    {
     "name": "stdout",
     "output_type": "stream",
     "text": [
      "[0, 1, 2, 3, 4, 7, 8, 9, 10, 13, 14, 15, 16, 19, 20, 21, 22, 25, 26, 27, 28, 31, 32, 33, 34, 35, 38, 39, 40, 41, 42, 45, 48, 51, 52, 53, 54, 55, 58, 59, 60, 63, 64, 65, 66, 69, 70, 71, 74, 75, 76, 77, 78, 81, 84, 85, 86, 87, 88, 91, 92, 95, 96, 97, 98, 99, 102, 105, 106, 107, 110, 111, 112, 113, 116, 119, 122, 123, 124, 125, 126, 129, 132, 133, 134, 135, 138, 139, 140, 141, 144, 145, 146, 149, 150, 151, 154, 155, 156, 157, 160, 161, 164, 165, 166, 167, 168, 171]\n"
     ]
    }
   ],
   "source": [
    "print(jolts)"
   ]
  },
  {
   "cell_type": "code",
   "execution_count": 12,
   "metadata": {
    "ExecuteTime": {
     "end_time": "2020-12-11T16:13:51.416298Z",
     "start_time": "2020-12-11T16:13:51.372200Z"
    }
   },
   "outputs": [
    {
     "data": {
      "text/plain": [
       "338510590509056"
      ]
     },
     "execution_count": 12,
     "metadata": {},
     "output_type": "execute_result"
    }
   ],
   "source": [
    "part_2(jolts)"
   ]
  },
  {
   "cell_type": "markdown",
   "metadata": {},
   "source": [
    "That is right. Woo. That was a tough one"
   ]
  },
  {
   "cell_type": "code",
   "execution_count": null,
   "metadata": {},
   "outputs": [],
   "source": []
  }
 ],
 "metadata": {
  "kernelspec": {
   "display_name": "Python 3",
   "language": "python",
   "name": "python3"
  },
  "language_info": {
   "codemirror_mode": {
    "name": "ipython",
    "version": 3
   },
   "file_extension": ".py",
   "mimetype": "text/x-python",
   "name": "python",
   "nbconvert_exporter": "python",
   "pygments_lexer": "ipython3",
   "version": "3.7.6"
  }
 },
 "nbformat": 4,
 "nbformat_minor": 4
}
