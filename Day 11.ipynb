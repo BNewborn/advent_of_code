{
 "cells": [
  {
   "cell_type": "markdown",
   "metadata": {},
   "source": [
    "https://adventofcode.com/2020/day/11"
   ]
  },
  {
   "cell_type": "markdown",
   "metadata": {},
   "source": [
    "--- Day 11: Seating System ---\n",
    "\n",
    "Your plane lands with plenty of time to spare. The final leg of your journey is a ferry that goes directly to the tropical island where you can finally start your vacation. As you reach the waiting area to board the ferry, you realize you're so early, nobody else has even arrived yet!\n",
    "\n",
    "By modeling the process people use to choose (or abandon) their seat in the waiting area, you're pretty sure you can predict the best place to sit. You make a quick map of the seat layout (your puzzle input).\n",
    "\n",
    "The seat layout fits neatly on a grid. Each position is either floor (.), an empty seat (L), or an occupied seat (#). For example, the initial seat layout might look like this:\n",
    "\n",
    "L.LL.LL.LL  \n",
    "LLLLLLL.LL  \n",
    "L.L.L..L..  \n",
    "LLLL.LL.LL  \n",
    "L.LL.LL.LL  \n",
    "L.LLLLL.LL  \n",
    "..L.L.....  \n",
    "LLLLLLLLLL  \n",
    "L.LLLLLL.L  \n",
    "L.LLLLL.LL  \n",
    "\n",
    "Now, you just need to model the people who will be arriving shortly. Fortunately, people are entirely predictable and always follow a simple set of rules. All decisions are based on the number of occupied seats adjacent to a given seat (one of the eight positions immediately up, down, left, right, or diagonal from the seat). The following rules are applied to every seat simultaneously:\n",
    "\n",
    "    If a seat is empty (L) and there are no occupied seats adjacent to it, the seat becomes occupied.\n",
    "    If a seat is occupied (#) and four or more seats adjacent to it are also occupied, the seat becomes empty.\n",
    "    Otherwise, the seat's state does not change.\n",
    "\n",
    "Floor (.) never changes; seats don't move, and nobody sits on the floor.\n",
    "\n",
    "After one round of these rules, every seat in the example layout becomes occupied:\n",
    "\n",
    "#.##.##.##\n",
    "#######.##\n",
    "#.#.#..#..\n",
    "####.##.##\n",
    "#.##.##.##\n",
    "#.#####.##\n",
    "..#.#.....\n",
    "##########\n",
    "#.######.#\n",
    "#.#####.##\n",
    "\n",
    "After a second round, the seats with four or more occupied adjacent seats become empty again:\n",
    "\n",
    "#.LL.L#.##\n",
    "#LLLLLL.L#\n",
    "L.L.L..L..\n",
    "#LLL.LL.L#\n",
    "#.LL.LL.LL\n",
    "#.LLLL#.##\n",
    "..L.L.....\n",
    "#LLLLLLLL#\n",
    "#.LLLLLL.L\n",
    "#.#LLLL.##\n",
    "\n",
    "This process continues for three more rounds:\n",
    "\n",
    "#.##.L#.##\n",
    "#L###LL.L#\n",
    "L.#.#..#..\n",
    "#L##.##.L#\n",
    "#.##.LL.LL\n",
    "#.###L#.##\n",
    "..#.#.....\n",
    "#L######L#\n",
    "#.LL###L.L\n",
    "#.#L###.##\n",
    "\n",
    "#.#L.L#.##\n",
    "#LLL#LL.L#\n",
    "L.L.L..#..\n",
    "#LLL.##.L#\n",
    "#.LL.LL.LL\n",
    "#.LL#L#.##\n",
    "..L.L.....\n",
    "#L#LLLL#L#\n",
    "#.LLLLLL.L\n",
    "#.#L#L#.##\n",
    "\n",
    "#.#L.L#.##\n",
    "#LLL#LL.L#\n",
    "L.#.L..#..\n",
    "#L##.##.L#\n",
    "#.#L.LL.LL\n",
    "#.#L#L#.##\n",
    "..L.L.....\n",
    "#L#L##L#L#\n",
    "#.LLLLLL.L\n",
    "#.#L#L#.##\n",
    "\n",
    "At this point, something interesting happens: the chaos stabilizes and further applications of these rules cause no seats to change state! Once people stop moving around, you count 37 occupied seats.\n",
    "\n",
    "Simulate your seating area by applying the seating rules repeatedly until no seats change state. How many seats end up occupied?\n"
   ]
  },
  {
   "cell_type": "code",
   "execution_count": 3,
   "metadata": {
    "ExecuteTime": {
     "end_time": "2020-12-11T22:08:25.439891Z",
     "start_time": "2020-12-11T22:08:25.425824Z"
    }
   },
   "outputs": [],
   "source": [
    "from collections import Counter"
   ]
  },
  {
   "cell_type": "code",
   "execution_count": 4,
   "metadata": {
    "ExecuteTime": {
     "end_time": "2020-12-11T22:08:25.462527Z",
     "start_time": "2020-12-11T22:08:25.447142Z"
    }
   },
   "outputs": [],
   "source": [
    "def seat_checker(seat_grid, seat_loc):\n",
    "    '''All decisions are based on the \n",
    "        number of occupied seats adjacent to a \n",
    "        given seat (one of the eight positions\n",
    "        immediately up, down, left, right, or diagonal from the seat)'''\n",
    "    \n",
    "    seat_row,seat_col = seat_loc[0],seat_loc[1]\n",
    "    \n",
    "#     print(f\"Starting seat: ({seat_row},{seat_col})\")\n",
    "#     print(f\"Starting seat status: {seat_grid[seat_row][seat_col]}\")\n",
    "    seats_nearby_status = Counter()\n",
    "    \n",
    "    left_seat = seat_grid[seat_row][seat_col-1]\n",
    "    right_seat = seat_grid[seat_row][seat_col+1]\n",
    "    up_seat = seat_grid[seat_row-1][seat_col]\n",
    "    down_seat = seat_grid[seat_row+1][seat_col]\n",
    "#     print(f\"Left: {left_seat}\")\n",
    "#     print(f\"Right: {right_seat}\")\n",
    "#     print(f\"Up: {up_seat}\")\n",
    "#     print(f\"Down: {down_seat}\")\n",
    "    #diags\n",
    "    left_up_seat = seat_grid[seat_row-1][seat_col-1]\n",
    "    left_down_seat = seat_grid[seat_row+1][seat_col-1]\n",
    "    right_up_seat = seat_grid[seat_row-1][seat_col+1]\n",
    "    right_down_seat = seat_grid[seat_row+1][seat_col+1]\n",
    "    \n",
    "#     print([left_seat,right_seat,up_seat,down_seat,left_up_seat,left_down_seat,right_up_seat,right_down_seat])\n",
    "    \n",
    "    for seat in [left_seat,right_seat,up_seat,down_seat,left_up_seat,left_down_seat,right_up_seat,right_down_seat]:\n",
    "        seats_nearby_status[seat]+=1\n",
    "        \n",
    "    return int(seats_nearby_status[\"#\"])\n",
    "\n",
    "def create_buffer_grid(start_grid):\n",
    "    ## Add buffer to seat grid\n",
    "    #Buffer Left Column\n",
    "    start_grid= np.insert(start_grid,0,\".\",axis=1)\n",
    "    #Buffer Right Column\n",
    "    start_grid= np.insert(start_grid,len(start_grid[0]),\".\",axis=1)\n",
    "    #Buffer Top Row\n",
    "    start_grid= np.insert(start_grid,0,[\".\"*len(start_grid[0])],axis=0)\n",
    "    # #Buffer Bottom Row\n",
    "    start_grid= np.insert(start_grid,len(start_grid),[\".\"*len(start_grid[0])],axis=0)\n",
    "    return start_grid\n",
    "\n",
    "def seat_status_checker(seat_status, num_seats_filled_nearby):\n",
    "    #If a seat is empty (L) and there are no occupied seats adjacent to it, the seat becomes occupied.\n",
    "    if seat_status == \"L\":\n",
    "        if num_seats_filled_nearby == 0:\n",
    "            return \"#\"\n",
    "        else:\n",
    "            return \"L\"\n",
    "    #If a seat is occupied (#) and four or more seats adjacent to it are also occupied, the seat becomes empty.        \n",
    "    elif seat_status == \"#\":\n",
    "        if num_seats_filled_nearby >= 4:\n",
    "            return \"L\"\n",
    "        else:\n",
    "            return \"#\"\n",
    "    \n",
    "    else:\n",
    "        return seat_status        \n"
   ]
  },
  {
   "cell_type": "code",
   "execution_count": 5,
   "metadata": {
    "ExecuteTime": {
     "end_time": "2020-12-11T22:08:25.489189Z",
     "start_time": "2020-12-11T22:08:25.478426Z"
    }
   },
   "outputs": [],
   "source": [
    "def run_grid_one_step(start_grid):\n",
    "    next_layout = np.empty_like(start_grid)\n",
    "    buffer_layout = create_buffer_grid(start_grid).copy()\n",
    "    for row_idx, row in enumerate(start_grid):\n",
    "        for seat_idx, seat_status in enumerate(row):\n",
    "            new_status = seat_status_checker(seat_status\\\n",
    "                                     ,seat_checker(buffer_layout,(row_idx+1,seat_idx+1)))\n",
    "            next_layout[row_idx,seat_idx]=new_status\n",
    "    return next_layout"
   ]
  },
  {
   "cell_type": "code",
   "execution_count": 6,
   "metadata": {
    "ExecuteTime": {
     "end_time": "2020-12-11T22:08:25.502283Z",
     "start_time": "2020-12-11T22:08:25.495080Z"
    }
   },
   "outputs": [],
   "source": [
    "##### PART 1"
   ]
  },
  {
   "cell_type": "code",
   "execution_count": 7,
   "metadata": {
    "ExecuteTime": {
     "end_time": "2020-12-11T22:08:25.515979Z",
     "start_time": "2020-12-11T22:08:25.506059Z"
    }
   },
   "outputs": [],
   "source": [
    "with open('./data/day11_input.txt', 'r', newline='\\n') as reader:\n",
    "    seat_grid = reader.readlines()\n",
    "seat_grid = np.array([list(x[:-1]) for x in seat_grid])\n",
    "prev_state = np.empty_like(seat_grid)\n",
    "runs = 0\n",
    "x = (seat_grid==prev_state).all()"
   ]
  },
  {
   "cell_type": "code",
   "execution_count": 8,
   "metadata": {
    "ExecuteTime": {
     "end_time": "2020-12-11T22:08:31.464878Z",
     "start_time": "2020-12-11T22:08:25.518222Z"
    }
   },
   "outputs": [
    {
     "name": "stdout",
     "output_type": "stream",
     "text": [
      "Static solution found... 2254 seats occupied\n"
     ]
    }
   ],
   "source": [
    "while not x:\n",
    "    next_state = run_grid_one_step(seat_grid)\n",
    "    prev_state = seat_grid.copy()\n",
    "    seat_grid = next_state.copy()\n",
    "    runs+=1\n",
    "    x = (seat_grid==prev_state).all()\n",
    "    if runs > 1000:\n",
    "        print(\".... Over 1000 runs\")\n",
    "        break\n",
    "    \n",
    "print(\"Static solution found...\",(seat_grid==\"#\").sum(),\"seats occupied\")"
   ]
  },
  {
   "cell_type": "markdown",
   "metadata": {},
   "source": [
    "-- Ok, so this is right. But I got stuck trying to adapt this to part 2. Going to put this down for a few hours or even the night and see if it's worthwhile adapting the above awfully dense code or just re-writing the entire step 2 from scratch (leaning towards the latter!).\n",
    "\n",
    "I like the idea of instead of messing with a buffer row and column thing, just have a is_empty function (like the one here https://pastebin.com/LfgeneDM) that returns a 0 when it hits a KeyError. Much simpler to manage that way"
   ]
  },
  {
   "cell_type": "code",
   "execution_count": null,
   "metadata": {},
   "outputs": [],
   "source": []
  }
 ],
 "metadata": {
  "kernelspec": {
   "display_name": "Python 3",
   "language": "python",
   "name": "python3"
  },
  "language_info": {
   "codemirror_mode": {
    "name": "ipython",
    "version": 3
   },
   "file_extension": ".py",
   "mimetype": "text/x-python",
   "name": "python",
   "nbconvert_exporter": "python",
   "pygments_lexer": "ipython3",
   "version": "3.7.6"
  }
 },
 "nbformat": 4,
 "nbformat_minor": 4
}
