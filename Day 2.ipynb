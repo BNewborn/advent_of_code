{
 "cells": [
  {
   "cell_type": "code",
   "execution_count": 1,
   "metadata": {
    "ExecuteTime": {
     "end_time": "2020-12-02T17:05:13.709114Z",
     "start_time": "2020-12-02T17:05:13.689494Z"
    }
   },
   "outputs": [
    {
     "data": {
      "text/plain": [
       "'https://adventofcode.com/2020/day/2'"
      ]
     },
     "execution_count": 1,
     "metadata": {},
     "output_type": "execute_result"
    }
   ],
   "source": [
    "'https://adventofcode.com/2020/day/2'"
   ]
  },
  {
   "cell_type": "code",
   "execution_count": 2,
   "metadata": {
    "ExecuteTime": {
     "end_time": "2020-12-02T17:07:03.430665Z",
     "start_time": "2020-12-02T17:07:03.274064Z"
    }
   },
   "outputs": [
    {
     "name": "stdout",
     "output_type": "stream",
     "text": [
      "day2_input.txt\r\n"
     ]
    }
   ],
   "source": [
    "!ls ./data"
   ]
  },
  {
   "cell_type": "code",
   "execution_count": 11,
   "metadata": {
    "ExecuteTime": {
     "end_time": "2020-12-02T17:10:06.329932Z",
     "start_time": "2020-12-02T17:10:06.317594Z"
    }
   },
   "outputs": [
    {
     "name": "stdout",
     "output_type": "stream",
     "text": [
      "total passwords 1000\n",
      "entry index 1|\t 6-9 d: dddddkzdl\n",
      "entry index 50|\t 10-13 b: mnblbbbbbbbfvbbbbx\n"
     ]
    }
   ],
   "source": [
    "with open('./data/day2_input.txt', 'r', newline='\\n') as reader:\n",
    "    input_list = reader.readlines()\n",
    "\n",
    "    \n",
    "#sanitize\n",
    "input_list = [x.strip() for x in input_list]\n",
    "print('total passwords', len(input_list))\n",
    "print('entry index 1|\\t',input_list[1])\n",
    "print('entry index 50|\\t',input_list[50])"
   ]
  },
  {
   "cell_type": "code",
   "execution_count": 52,
   "metadata": {
    "ExecuteTime": {
     "end_time": "2020-12-02T18:14:01.878805Z",
     "start_time": "2020-12-02T18:14:01.873339Z"
    }
   },
   "outputs": [],
   "source": [
    "#Valid password - take letter and min/max counts and see if pw meets threshold\n",
    "def is_password_valid(key_letter,min_counts,max_counts,password):\n",
    "    ct_key_in_pw = len([x for x in password if x==key_letter])\n",
    "#     print(f\"Key Letter in pw: {ct_key_in_pw}\")\n",
    "\n",
    "    if min_counts<=ct_key_in_pw<=max_counts:\n",
    "        return True\n",
    "    else:\n",
    "        return False\n"
   ]
  },
  {
   "cell_type": "code",
   "execution_count": 53,
   "metadata": {
    "ExecuteTime": {
     "end_time": "2020-12-02T18:14:02.727939Z",
     "start_time": "2020-12-02T18:14:02.714680Z"
    }
   },
   "outputs": [],
   "source": [
    "assert(is_password_valid('a',1,3,'abcde')==True)\n",
    "assert(is_password_valid('b',1,3,'cdefg')==False)\n",
    "assert(is_password_valid('c',2,9,'ccccccccc')==True)"
   ]
  },
  {
   "cell_type": "code",
   "execution_count": 54,
   "metadata": {
    "ExecuteTime": {
     "end_time": "2020-12-02T18:14:05.562720Z",
     "start_time": "2020-12-02T18:14:05.538300Z"
    }
   },
   "outputs": [
    {
     "name": "stdout",
     "output_type": "stream",
     "text": [
      "447 valid passwords out of  1000\n"
     ]
    }
   ],
   "source": [
    "valid_pws = list()\n",
    "for inp in input_list[0:]:\n",
    "\n",
    "    \n",
    "    inp_split = inp.split(\": \")\n",
    "    pw = inp_split[1]\n",
    "    \n",
    "    cts_and_key_letter = inp_split[0].split(\" \")\n",
    "    key_letter = cts_and_key_letter[1]\n",
    "    \n",
    "    min_cts = int(cts_and_key_letter[0].split(\"-\")[0])\n",
    "    max_cts = int(cts_and_key_letter[0].split(\"-\")[1])\n",
    "    \n",
    "    valid_pws.append(is_password_valid(key_letter,min_cts,max_cts,pw))\n",
    "    \n",
    "print(sum(valid_pws),\"valid passwords out of \",len(valid_pws))"
   ]
  },
  {
   "cell_type": "code",
   "execution_count": 45,
   "metadata": {
    "ExecuteTime": {
     "end_time": "2020-12-02T17:25:50.765041Z",
     "start_time": "2020-12-02T17:25:50.751195Z"
    }
   },
   "outputs": [],
   "source": [
    "#### Part 2"
   ]
  },
  {
   "cell_type": "code",
   "execution_count": 55,
   "metadata": {
    "ExecuteTime": {
     "end_time": "2020-12-02T18:15:11.903431Z",
     "start_time": "2020-12-02T18:15:11.875717Z"
    }
   },
   "outputs": [
    {
     "name": "stdout",
     "output_type": "stream",
     "text": [
      "249 valid passwords out of  1000\n"
     ]
    }
   ],
   "source": [
    "def is_password_valid_part2(key_letter,first_idx,second_idx,password):\n",
    "    first_letter_right = password[first_idx-1]==key_letter\n",
    "    second_letter_right = password[second_idx-1]==key_letter\n",
    "    \n",
    "    if sum([first_letter_right,second_letter_right])==1 :\n",
    "        return True\n",
    "    else:\n",
    "        return False\n",
    "    \n",
    "    \n",
    "assert(is_password_valid_part2('a',1,3,'abcde')==True)\n",
    "assert(is_password_valid_part2('b',1,3,'cdefg')==False)\n",
    "assert(is_password_valid_part2('a',2,9,'ccccccccc')==False)\n",
    "\n",
    "valid_pws = list()\n",
    "for inp in input_list[0:]:\n",
    "    inp_split = inp.split(\": \")\n",
    "    pw = inp_split[1]\n",
    "    \n",
    "    cts_and_key_letter = inp_split[0].split(\" \")\n",
    "    key_letter = cts_and_key_letter[1]\n",
    "    \n",
    "    first_idx = int(cts_and_key_letter[0].split(\"-\")[0])\n",
    "    second_idx = int(cts_and_key_letter[0].split(\"-\")[1])\n",
    "    \n",
    "    valid_pws.append(\\\n",
    "         is_password_valid_part2(key_letter,first_idx,second_idx,pw))\n",
    "    \n",
    "print(sum(valid_pws),\"valid passwords out of \",len(valid_pws))  "
   ]
  },
  {
   "cell_type": "code",
   "execution_count": null,
   "metadata": {},
   "outputs": [],
   "source": []
  }
 ],
 "metadata": {
  "kernelspec": {
   "display_name": "Python 3",
   "language": "python",
   "name": "python3"
  },
  "language_info": {
   "codemirror_mode": {
    "name": "ipython",
    "version": 3
   },
   "file_extension": ".py",
   "mimetype": "text/x-python",
   "name": "python",
   "nbconvert_exporter": "python",
   "pygments_lexer": "ipython3",
   "version": "3.7.6"
  }
 },
 "nbformat": 4,
 "nbformat_minor": 4
}
