{
 "cells": [
  {
   "cell_type": "code",
   "execution_count": 33,
   "metadata": {
    "ExecuteTime": {
     "end_time": "2020-12-03T17:31:03.862414Z",
     "start_time": "2020-12-03T17:31:03.844726Z"
    }
   },
   "outputs": [
    {
     "name": "stdout",
     "output_type": "stream",
     "text": [
      "(323, 31)\n"
     ]
    },
    {
     "data": {
      "text/plain": [
       "array([['.', '.', '.', ..., '#', '#', '.'],\n",
       "       ['.', '.', '#', ..., '#', '#', '.'],\n",
       "       ['#', '#', '.', ..., '.', '.', '.'],\n",
       "       ...,\n",
       "       ['.', '.', '.', ..., '.', '.', '#'],\n",
       "       ['.', '.', '.', ..., '.', '.', '.'],\n",
       "       ['.', '.', '.', ..., '.', '#', '.']], dtype='<U1')"
      ]
     },
     "execution_count": 33,
     "metadata": {},
     "output_type": "execute_result"
    }
   ],
   "source": [
    "with open('./data/day3_input.txt', 'r', newline=\"\\n\") as reader:\n",
    "    tree_map = reader.readlines()\n",
    "    \n",
    "#strip \\n newline character since it's not being removed in the above\n",
    "tree_map = list([list(x[:-1]) for x in tree_map])\n",
    "\n",
    "# len(tree_map) #323 rows\n",
    "# [len(x) for x in tree_map] #they're all 31 items\n",
    "\n",
    "tree_map= np.array(tree_map)\n",
    "print(tree_map.shape)\n",
    "tree_map"
   ]
  },
  {
   "cell_type": "code",
   "execution_count": 53,
   "metadata": {
    "ExecuteTime": {
     "end_time": "2020-12-03T17:49:30.797831Z",
     "start_time": "2020-12-03T17:49:30.785341Z"
    }
   },
   "outputs": [
    {
     "name": "stdout",
     "output_type": "stream",
     "text": [
      "240 trees hit\n"
     ]
    }
   ],
   "source": [
    "col_idx = 0 #start on left-most column\n",
    "trees_hit = 0\n",
    "for row in tree_map:\n",
    "    row_clean = row.copy()\n",
    "    \n",
    "    row_clean[col_idx]=\"O\"\n",
    "\n",
    "    square = row[col_idx]\n",
    "    if square == \"#\":\n",
    "        trees_hit+=1\n",
    "    col_idx += 3\n",
    "    col_idx = col_idx % 31\n",
    "    \n",
    "#     print(row)\n",
    "#     print(row_clean)\n",
    "    \n",
    "#     print(\"\\n\")\n",
    "print(trees_hit,\"trees hit\")\n",
    "#correct!"
   ]
  },
  {
   "cell_type": "markdown",
   "metadata": {},
   "source": [
    "### Part 2\n",
    "\n",
    "    Right 1, down 1.\n",
    "    Right 3, down 1. (This is the slope you already checked.)\n",
    "    Right 5, down 1.\n",
    "    Right 7, down 1.\n",
    "    Right 1, down 2.\n",
    "\n",
    "In the above example, these slopes would find 2, 7, 3, 4, and 2 tree(s) respectively; multiplied together, these produce the answer 336.\n",
    "\n",
    "What do you get if you multiply together the number of trees encountered on each of the listed slopes?"
   ]
  },
  {
   "cell_type": "code",
   "execution_count": 46,
   "metadata": {
    "ExecuteTime": {
     "end_time": "2020-12-03T17:35:55.837330Z",
     "start_time": "2020-12-03T17:35:55.833548Z"
    }
   },
   "outputs": [],
   "source": [
    "num_trees_per_row = tree_map.shape[1]"
   ]
  },
  {
   "cell_type": "code",
   "execution_count": 48,
   "metadata": {
    "ExecuteTime": {
     "end_time": "2020-12-03T17:36:50.872019Z",
     "start_time": "2020-12-03T17:36:50.851426Z"
    }
   },
   "outputs": [
    {
     "data": {
      "text/plain": [
       "[70, 240, 68, 67, 37]"
      ]
     },
     "execution_count": 48,
     "metadata": {},
     "output_type": "execute_result"
    }
   ],
   "source": [
    "slopes = [(1,1) #right 1, down 1\n",
    "          ,(3,1)#right 3, down 1\n",
    "          ,(5,1)#right 5, down 1\n",
    "          ,(7,1)#right 7, down 1\n",
    "          ,(1,2)#right 1, down 2\n",
    "         ]\n",
    "\n",
    "trees_encountered_list = []\n",
    "\n",
    "for slope in slopes:\n",
    "    right = slope[0]\n",
    "    down = slope[1]\n",
    "    \n",
    "    col_idx = 0 #start on left-most column\n",
    "    trees_hit = 0\n",
    "    #start looping through tree map\n",
    "    for row in tree_map[0::down]: #go by as many rows as down\n",
    "        square = row[col_idx]\n",
    "        if square == \"#\":\n",
    "            trees_hit+=1\n",
    "        col_idx += right\n",
    "        \n",
    "        #restart loop at len of rows (31)\n",
    "        col_idx = col_idx % num_trees_per_row\n",
    "        \n",
    "    trees_encountered_list.append(trees_hit)\n",
    "\n",
    "trees_encountered_list"
   ]
  },
  {
   "cell_type": "code",
   "execution_count": 50,
   "metadata": {
    "ExecuteTime": {
     "end_time": "2020-12-03T17:37:45.923471Z",
     "start_time": "2020-12-03T17:37:45.909560Z"
    }
   },
   "outputs": [
    {
     "data": {
      "text/plain": [
       "2832009600"
      ]
     },
     "execution_count": 50,
     "metadata": {},
     "output_type": "execute_result"
    }
   ],
   "source": [
    "np.array(trees_encountered_list).prod()"
   ]
  },
  {
   "cell_type": "code",
   "execution_count": null,
   "metadata": {},
   "outputs": [],
   "source": []
  }
 ],
 "metadata": {
  "kernelspec": {
   "display_name": "Python 3",
   "language": "python",
   "name": "python3"
  },
  "language_info": {
   "codemirror_mode": {
    "name": "ipython",
    "version": 3
   },
   "file_extension": ".py",
   "mimetype": "text/x-python",
   "name": "python",
   "nbconvert_exporter": "python",
   "pygments_lexer": "ipython3",
   "version": "3.7.6"
  }
 },
 "nbformat": 4,
 "nbformat_minor": 4
}
