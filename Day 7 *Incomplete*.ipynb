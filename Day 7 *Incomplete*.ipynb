{
 "cells": [
  {
   "cell_type": "markdown",
   "metadata": {},
   "source": [
    "https://adventofcode.com/2020/day/7"
   ]
  },
  {
   "cell_type": "code",
   "execution_count": 1,
   "metadata": {
    "ExecuteTime": {
     "end_time": "2020-12-08T22:35:05.137646Z",
     "start_time": "2020-12-08T22:35:05.129433Z"
    }
   },
   "outputs": [
    {
     "name": "stdout",
     "output_type": "stream",
     "text": [
      "\n",
      "import pandas as pd\n",
      "import seaborn as sns\n",
      "from matplotlib import pyplot as plt\n",
      "import numpy as np\n",
      "import os\n",
      "\n",
      "import re\n",
      "import time \n",
      "\n",
      "from pprint import pprint\n",
      "\n",
      "\n"
     ]
    }
   ],
   "source": [
    "print(packages_import_statement)"
   ]
  },
  {
   "cell_type": "code",
   "execution_count": 2,
   "metadata": {
    "ExecuteTime": {
     "end_time": "2020-12-08T22:35:05.162399Z",
     "start_time": "2020-12-08T22:35:05.147895Z"
    }
   },
   "outputs": [
    {
     "data": {
      "text/plain": [
       "594"
      ]
     },
     "execution_count": 2,
     "metadata": {},
     "output_type": "execute_result"
    }
   ],
   "source": [
    "with open('./data/day7_input.txt', 'r') as reader:\n",
    "    bags = reader.readlines()\n",
    "    \n",
    "bags = [x.strip() for x in bags]\n",
    "len(bags)"
   ]
  },
  {
   "cell_type": "code",
   "execution_count": null,
   "metadata": {
    "ExecuteTime": {
     "end_time": "2020-12-08T03:19:52.291107Z",
     "start_time": "2020-12-08T03:19:52.284086Z"
    }
   },
   "outputs": [],
   "source": []
  },
  {
   "cell_type": "code",
   "execution_count": 3,
   "metadata": {
    "ExecuteTime": {
     "end_time": "2020-12-08T22:35:05.179069Z",
     "start_time": "2020-12-08T22:35:05.167033Z"
    }
   },
   "outputs": [
    {
     "name": "stdout",
     "output_type": "stream",
     "text": [
      "//////////////////////////////////////////////////\n",
      "Starting with good bags list ['shiny gold']\n",
      "Ending loop with good bags list ['muted yellow', 'bright white', 'shiny gold']\n",
      "//////////////////////////////////////////////////\n",
      "Starting with good bags list ['muted yellow', 'bright white', 'shiny gold']\n",
      "Ending loop with good bags list ['bright white', 'muted yellow', 'dark orange', 'light red', 'shiny gold']\n",
      "//////////////////////////////////////////////////\n",
      "Starting with good bags list ['bright white', 'muted yellow', 'dark orange', 'light red', 'shiny gold']\n",
      "Ending loop with good bags list ['bright white', 'muted yellow', 'dark orange', 'light red', 'shiny gold']\n",
      "END--> 4 bags\n"
     ]
    }
   ],
   "source": [
    "### TEST CASE\n",
    "\n",
    "test_bags = '''light red bags contain 1 bright white bag, 2 muted yellow bags.\n",
    "dark orange bags contain 3 bright white bags, 4 muted yellow bags.\n",
    "bright white bags contain 1 shiny gold bag.\n",
    "muted yellow bags contain 2 shiny gold bags, 9 faded blue bags.\n",
    "shiny gold bags contain 1 dark olive bag, 2 vibrant plum bags.\n",
    "dark olive bags contain 3 faded blue bags, 4 dotted black bags.\n",
    "vibrant plum bags contain 5 faded blue bags, 6 dotted black bags.\n",
    "faded blue bags contain no other bags.\n",
    "dotted black bags contain no other bags.'''\n",
    "test_bags=test_bags.split(\"\\n\")\n",
    "test_bags\n",
    "\n",
    "good_bags = [\"shiny gold\"]\n",
    "good_bags_prev = []\n",
    "while good_bags != good_bags_prev:\n",
    "# for i in range(0,4):\n",
    "    print(\"//\"*25)\n",
    "#     print(f\"RUN {i}\")\n",
    "    print(f\"Starting with good bags list {good_bags}\")\n",
    "#     print(f\"Starting with Good Bags Prev: {good_bags_prev}\")\n",
    "#     print(\"--\"*25)\n",
    "    good_bags_prev = good_bags.copy()\n",
    "\n",
    "    \n",
    "    for line in test_bags:\n",
    "        key_bag = line.split(\" contain \")[0]\n",
    "        inner_bags = re.split(\",.\",line.split(\" contain \")[1])\n",
    "#         print(key_bag,\"|||\",inner_bags)\n",
    "        for good_bag in good_bags:\n",
    "            if good_bag in \"\".join(inner_bags)\\\n",
    "            and good_bag != key_bag:\n",
    "#                 print(f\"\\tGood Bag found: {good_bag}\")\n",
    "                good_bags.append(key_bag.split(\"bags\")[0].strip())\n",
    "#                 print(f\"\\tGood Bags List Updated: {good_bags}\")\n",
    "\n",
    "    #remove dupes\n",
    "    good_bags = list(set(good_bags))\n",
    "#     print(\"++\"*25)\n",
    "    print(f\"Ending loop with good bags list {good_bags}\")\n",
    "    \n",
    "print(\"END-->\", len(good_bags)-1, 'bags')\n",
    "                "
   ]
  },
  {
   "cell_type": "code",
   "execution_count": 4,
   "metadata": {
    "ExecuteTime": {
     "end_time": "2020-12-08T22:35:05.198154Z",
     "start_time": "2020-12-08T22:35:05.190533Z"
    }
   },
   "outputs": [
    {
     "data": {
      "text/plain": [
       "'dim aqua bags contain 1 mirrored beige bag.'"
      ]
     },
     "execution_count": 4,
     "metadata": {},
     "output_type": "execute_result"
    }
   ],
   "source": [
    "bags[2]"
   ]
  },
  {
   "cell_type": "code",
   "execution_count": 5,
   "metadata": {
    "ExecuteTime": {
     "end_time": "2020-12-08T22:35:05.482557Z",
     "start_time": "2020-12-08T22:35:05.205724Z"
    }
   },
   "outputs": [
    {
     "name": "stdout",
     "output_type": "stream",
     "text": [
      "END--> 233 bags\n"
     ]
    }
   ],
   "source": [
    "### PART 1 CASE\n",
    "good_bags = [\"shiny gold\"]\n",
    "good_bags_prev = []\n",
    "while len(good_bags) != len(good_bags_prev):\n",
    "# for i in range(0,4):\n",
    "#     print(\"//\"*25)\n",
    "#     print(f\"RUN {i}\")\n",
    "#     print(f\"Starting with good bags list {good_bags}\")\n",
    "#     print(f\"Starting with Good Bags Prev: {good_bags_prev}\")\n",
    "#     print(\"--\"*25)\n",
    "    good_bags_prev = good_bags.copy()\n",
    "\n",
    "    \n",
    "    for line in bags:\n",
    "        key_bag = line.split(\" contain \")[0]\n",
    "        inner_bags = re.split(\",.\",line.split(\" contain \")[1])\n",
    "#         print(key_bag,\"|||\",inner_bags)\n",
    "        for good_bag in good_bags:\n",
    "            if good_bag in \"\".join(inner_bags)\\\n",
    "            and good_bag != key_bag:\n",
    "#                 print(f\"\\tGood Bag found: {good_bag}\")\n",
    "                good_bags.append(key_bag.split(\"bags\")[0].strip())\n",
    "#                 print(f\"\\tGood Bags List Updated: {good_bags}\")\n",
    "\n",
    "    #remove dupes\n",
    "    good_bags = list(set(good_bags))\n",
    "#     print(\"++\"*25)\n",
    "#     print(f\"Ending loop with len good bags list {len(good_bags)}\")\n",
    "#     print(f\"Ending loop with len good bags list {good_bags}\")\n",
    "    \n",
    "print(\"END-->\", len(good_bags)-1, 'bags')\n",
    "                "
   ]
  },
  {
   "cell_type": "code",
   "execution_count": 6,
   "metadata": {
    "ExecuteTime": {
     "end_time": "2020-12-08T22:35:05.495051Z",
     "start_time": "2020-12-08T22:35:05.484807Z"
    }
   },
   "outputs": [],
   "source": [
    "## Part 2"
   ]
  },
  {
   "cell_type": "code",
   "execution_count": 24,
   "metadata": {
    "ExecuteTime": {
     "end_time": "2020-12-08T22:44:27.089259Z",
     "start_time": "2020-12-08T22:44:27.081346Z"
    }
   },
   "outputs": [
    {
     "name": "stdout",
     "output_type": "stream",
     "text": [
      "light red bags ||| ['1 bright white', '2 muted yellow']\n",
      "dark orange bags ||| ['3 bright white', '4 muted yellow']\n",
      "bright white bags ||| ['1 shiny gold']\n",
      "muted yellow bags ||| ['2 shiny gold', '9 faded blue']\n",
      "shiny gold bags ||| ['1 dark olive', '2 vibrant plum']\n",
      "dark olive bags ||| ['3 faded blue', '4 dotted black']\n",
      "vibrant plum bags ||| ['5 faded blue', '6 dotted black']\n",
      "faded blue bags ||| ['no other']\n",
      "dotted black bags ||| ['no other']\n"
     ]
    }
   ],
   "source": [
    "test_case = '''light red bags contain 1 bright white bag, 2 muted yellow bags.\n",
    "dark orange bags contain 3 bright white bags, 4 muted yellow bags.\n",
    "bright white bags contain 1 shiny gold bag.\n",
    "muted yellow bags contain 2 shiny gold bags, 9 faded blue bags.\n",
    "shiny gold bags contain 1 dark olive bag, 2 vibrant plum bags.\n",
    "dark olive bags contain 3 faded blue bags, 4 dotted black bags.\n",
    "vibrant plum bags contain 5 faded blue bags, 6 dotted black bags.\n",
    "faded blue bags contain no other bags.\n",
    "dotted black bags contain no other bags.'''\n",
    "\n",
    "bag_ref = dict()\n",
    "for line in test_case.split(\"\\n\"):\n",
    "#     print(line)\n",
    "    key_bag = line.split(\" contain \")[0]\n",
    "    inner_bags = re.split(\",\",line.split(\" contain \")[1])\n",
    "    \n",
    "    #clean inner_bags\n",
    "    inner_bags= [x.strip(\".\").strip(\"bags\").strip(\"bag\").strip() \\\n",
    "                 for x in inner_bags ]\n",
    "    print(key_bag,\"|||\",inner_bags)"
   ]
  },
  {
   "cell_type": "code",
   "execution_count": null,
   "metadata": {},
   "outputs": [],
   "source": [
    "bag_recursion = True\n",
    "bag_to_start = 'shiny gold bags'\n",
    "depth_bags_inside = list()\n",
    "while bag_recursion:"
   ]
  }
 ],
 "metadata": {
  "kernelspec": {
   "display_name": "Python 3",
   "language": "python",
   "name": "python3"
  },
  "language_info": {
   "codemirror_mode": {
    "name": "ipython",
    "version": 3
   },
   "file_extension": ".py",
   "mimetype": "text/x-python",
   "name": "python",
   "nbconvert_exporter": "python",
   "pygments_lexer": "ipython3",
   "version": "3.7.6"
  }
 },
 "nbformat": 4,
 "nbformat_minor": 4
}
