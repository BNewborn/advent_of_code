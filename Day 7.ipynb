{
 "cells": [
  {
   "cell_type": "markdown",
   "metadata": {},
   "source": [
    "https://adventofcode.com/2020/day/7"
   ]
  },
  {
   "cell_type": "code",
   "execution_count": 1,
   "metadata": {
    "ExecuteTime": {
     "end_time": "2020-12-08T23:35:46.045134Z",
     "start_time": "2020-12-08T23:35:46.038125Z"
    }
   },
   "outputs": [
    {
     "name": "stdout",
     "output_type": "stream",
     "text": [
      "\n",
      "import pandas as pd\n",
      "import seaborn as sns\n",
      "from matplotlib import pyplot as plt\n",
      "import numpy as np\n",
      "import os\n",
      "\n",
      "import re\n",
      "import time \n",
      "\n",
      "from pprint import pprint\n",
      "\n",
      "\n"
     ]
    }
   ],
   "source": [
    "print(packages_import_statement)"
   ]
  },
  {
   "cell_type": "code",
   "execution_count": 2,
   "metadata": {
    "ExecuteTime": {
     "end_time": "2020-12-08T23:35:46.062751Z",
     "start_time": "2020-12-08T23:35:46.050525Z"
    }
   },
   "outputs": [
    {
     "data": {
      "text/plain": [
       "594"
      ]
     },
     "execution_count": 2,
     "metadata": {},
     "output_type": "execute_result"
    }
   ],
   "source": [
    "with open('./data/day7_input.txt', 'r') as reader:\n",
    "    bags = reader.readlines()\n",
    "    \n",
    "bags = [x.strip() for x in bags]\n",
    "len(bags)"
   ]
  },
  {
   "cell_type": "code",
   "execution_count": 3,
   "metadata": {
    "ExecuteTime": {
     "end_time": "2020-12-08T23:35:46.075989Z",
     "start_time": "2020-12-08T23:35:46.068097Z"
    }
   },
   "outputs": [
    {
     "data": {
      "text/plain": [
       "['dark indigo bags contain 2 clear indigo bags.',\n",
       " 'mirrored gold bags contain 2 pale blue bags, 1 dark violet bag.',\n",
       " 'dim aqua bags contain 1 mirrored beige bag.',\n",
       " 'dim fuchsia bags contain 5 dark red bags, 1 muted green bag, 4 clear indigo bags.',\n",
       " 'shiny fuchsia bags contain 4 wavy teal bags, 4 dim cyan bags, 4 light green bags, 1 vibrant tomato bag.',\n",
       " 'posh chartreuse bags contain 2 faded blue bags, 2 pale plum bags, 2 posh coral bags, 4 vibrant bronze bags.',\n",
       " 'striped red bags contain 3 vibrant red bags.',\n",
       " 'striped purple bags contain 5 shiny brown bags.',\n",
       " 'dark silver bags contain 1 dull aqua bag, 4 dim magenta bags.',\n",
       " 'dark chartreuse bags contain 2 plaid black bags, 4 light bronze bags, 5 dotted cyan bags.']"
      ]
     },
     "execution_count": 3,
     "metadata": {},
     "output_type": "execute_result"
    }
   ],
   "source": [
    "bags[0:10]"
   ]
  },
  {
   "cell_type": "code",
   "execution_count": 4,
   "metadata": {
    "ExecuteTime": {
     "end_time": "2020-12-08T23:35:46.712898Z",
     "start_time": "2020-12-08T23:35:46.706097Z"
    }
   },
   "outputs": [],
   "source": [
    "# ### TEST CASE\n",
    "\n",
    "# test_bags = '''light red bags contain 1 bright white bag, 2 muted yellow bags.\n",
    "# dark orange bags contain 3 bright white bags, 4 muted yellow bags.\n",
    "# bright white bags contain 1 shiny gold bag.\n",
    "# muted yellow bags contain 2 shiny gold bags, 9 faded blue bags.\n",
    "# shiny gold bags contain 1 dark olive bag, 2 vibrant plum bags.\n",
    "# dark olive bags contain 3 faded blue bags, 4 dotted black bags.\n",
    "# vibrant plum bags contain 5 faded blue bags, 6 dotted black bags.\n",
    "# faded blue bags contain no other bags.\n",
    "# dotted black bags contain no other bags.'''\n",
    "# test_bags=test_bags.split(\"\\n\")\n",
    "# test_bags\n",
    "\n",
    "# good_bags = [\"shiny gold\"]\n",
    "# good_bags_prev = []\n",
    "# while good_bags != good_bags_prev:\n",
    "# # for i in range(0,4):\n",
    "#     print(\"//\"*25)\n",
    "# #     print(f\"RUN {i}\")\n",
    "#     print(f\"Starting with good bags list {good_bags}\")\n",
    "# #     print(f\"Starting with Good Bags Prev: {good_bags_prev}\")\n",
    "# #     print(\"--\"*25)\n",
    "#     good_bags_prev = good_bags.copy()\n",
    "\n",
    "    \n",
    "#     for line in test_bags:\n",
    "#         key_bag = line.split(\" contain \")[0]\n",
    "#         inner_bags = re.split(\",.\",line.split(\" contain \")[1])\n",
    "# #         print(key_bag,\"|||\",inner_bags)\n",
    "#         for good_bag in good_bags:\n",
    "#             if good_bag in \"\".join(inner_bags)\\\n",
    "#             and good_bag != key_bag:\n",
    "# #                 print(f\"\\tGood Bag found: {good_bag}\")\n",
    "#                 good_bags.append(key_bag.split(\"bags\")[0].strip())\n",
    "# #                 print(f\"\\tGood Bags List Updated: {good_bags}\")\n",
    "\n",
    "#     #remove dupes\n",
    "#     good_bags = list(set(good_bags))\n",
    "# #     print(\"++\"*25)\n",
    "#     print(f\"Ending loop with good bags list {good_bags}\")\n",
    "    \n",
    "# print(\"END-->\", len(good_bags)-1, 'bags')\n",
    "                "
   ]
  },
  {
   "cell_type": "code",
   "execution_count": 5,
   "metadata": {
    "ExecuteTime": {
     "end_time": "2020-12-08T23:35:46.726494Z",
     "start_time": "2020-12-08T23:35:46.719033Z"
    }
   },
   "outputs": [
    {
     "data": {
      "text/plain": [
       "'dim aqua bags contain 1 mirrored beige bag.'"
      ]
     },
     "execution_count": 5,
     "metadata": {},
     "output_type": "execute_result"
    }
   ],
   "source": [
    "bags[2]"
   ]
  },
  {
   "cell_type": "code",
   "execution_count": 6,
   "metadata": {
    "ExecuteTime": {
     "end_time": "2020-12-08T23:35:46.973540Z",
     "start_time": "2020-12-08T23:35:46.730222Z"
    }
   },
   "outputs": [
    {
     "name": "stdout",
     "output_type": "stream",
     "text": [
      "END--> 233 bags\n"
     ]
    }
   ],
   "source": [
    "### PART 1 CASE\n",
    "good_bags = [\"shiny gold\"]\n",
    "good_bags_prev = []\n",
    "while len(good_bags) != len(good_bags_prev):\n",
    "# for i in range(0,4):\n",
    "#     print(\"//\"*25)\n",
    "#     print(f\"RUN {i}\")\n",
    "#     print(f\"Starting with good bags list {good_bags}\")\n",
    "#     print(f\"Starting with Good Bags Prev: {good_bags_prev}\")\n",
    "#     print(\"--\"*25)\n",
    "    good_bags_prev = good_bags.copy()\n",
    "\n",
    "    \n",
    "    for line in bags:\n",
    "        key_bag = line.split(\" contain \")[0]\n",
    "        inner_bags = re.split(\",.\",line.split(\" contain \")[1])\n",
    "#         print(key_bag,\"|||\",inner_bags)\n",
    "        for good_bag in good_bags:\n",
    "            if good_bag in \"\".join(inner_bags)\\\n",
    "            and good_bag != key_bag:\n",
    "#                 print(f\"\\tGood Bag found: {good_bag}\")\n",
    "                good_bags.append(key_bag.split(\"bags\")[0].strip())\n",
    "#                 print(f\"\\tGood Bags List Updated: {good_bags}\")\n",
    "\n",
    "    #remove dupes\n",
    "    good_bags = list(set(good_bags))\n",
    "#     print(\"++\"*25)\n",
    "#     print(f\"Ending loop with len good bags list {len(good_bags)}\")\n",
    "#     print(f\"Ending loop with len good bags list {good_bags}\")\n",
    "    \n",
    "print(\"END-->\", len(good_bags)-1, 'bags')\n",
    "                "
   ]
  },
  {
   "cell_type": "code",
   "execution_count": 7,
   "metadata": {
    "ExecuteTime": {
     "end_time": "2020-12-08T23:35:46.983164Z",
     "start_time": "2020-12-08T23:35:46.979446Z"
    }
   },
   "outputs": [],
   "source": [
    "## Part 2"
   ]
  },
  {
   "cell_type": "code",
   "execution_count": 8,
   "metadata": {
    "ExecuteTime": {
     "end_time": "2020-12-08T23:35:46.999515Z",
     "start_time": "2020-12-08T23:35:46.985026Z"
    }
   },
   "outputs": [
    {
     "name": "stdout",
     "output_type": "stream",
     "text": [
      "light red bags contain 1 bright white bag, 2 muted yellow bags.\n",
      "dark orange bags contain 3 bright white bags, 4 muted yellow bags.\n",
      "bright white bags contain 1 shiny gold bag.\n",
      "muted yellow bags contain 2 shiny gold bags, 9 faded blue bags.\n",
      "shiny gold bags contain 1 dark olive bag, 2 vibrant plum bags.\n",
      "dark olive bags contain 3 faded blue bags, 4 dotted black bags.\n",
      "vibrant plum bags contain 5 faded blue bags, 6 dotted black bags.\n",
      "faded blue bags contain no other bags.\n",
      "dotted black bags contain no other bags.\n"
     ]
    },
    {
     "data": {
      "text/plain": [
       "{'light red': [('bright white', 1), ('muted yellow', 2)],\n",
       " 'dark orange': [('bright white', 3), ('muted yellow', 4)],\n",
       " 'bright white': [('shiny gold', 1)],\n",
       " 'muted yellow': [('shiny gold', 2), ('faded blue', 9)],\n",
       " 'shiny gold': [('dark olive', 1), ('vibrant plum', 2)],\n",
       " 'dark olive': [('faded blue', 3), ('dotted black', 4)],\n",
       " 'vibrant plum': [('faded blue', 5), ('dotted black', 6)],\n",
       " 'faded blue': [],\n",
       " 'dotted black': []}"
      ]
     },
     "execution_count": 8,
     "metadata": {},
     "output_type": "execute_result"
    }
   ],
   "source": [
    "test_case = '''light red bags contain 1 bright white bag, 2 muted yellow bags.\n",
    "dark orange bags contain 3 bright white bags, 4 muted yellow bags.\n",
    "bright white bags contain 1 shiny gold bag.\n",
    "muted yellow bags contain 2 shiny gold bags, 9 faded blue bags.\n",
    "shiny gold bags contain 1 dark olive bag, 2 vibrant plum bags.\n",
    "dark olive bags contain 3 faded blue bags, 4 dotted black bags.\n",
    "vibrant plum bags contain 5 faded blue bags, 6 dotted black bags.\n",
    "faded blue bags contain no other bags.\n",
    "dotted black bags contain no other bags.'''\n",
    "\n",
    "all_bags = dict()\n",
    "for line in test_case.split(\"\\n\"):\n",
    "    print(line)\n",
    "    key_bag = re.search(\"[\\D]*(?= bags contain)\",line)[0]\n",
    "    inner_bags = re.split(\",\",line.split(\" contain \")[1])\n",
    "    \n",
    "    #clean inner_bags\n",
    "    inner_bags= [x.strip(\".\").strip(\"bags\").strip(\"bag\").strip() \\\n",
    "                 for x in inner_bags ]\n",
    "    inner_bag_list = list()\n",
    "    for subbags in inner_bags:\n",
    "        if subbags == 'no other':\n",
    "            inner_bag_list=[]\n",
    "        else:\n",
    "            inner_bag_list.append((re.split(\"(?<=[\\d]) \",subbags)[1],int(re.split(\"(?<=[\\d]) \",subbags)[0])))\n",
    "    all_bags[key_bag]=inner_bag_list\n",
    "all_bags"
   ]
  },
  {
   "cell_type": "code",
   "execution_count": 10,
   "metadata": {
    "ExecuteTime": {
     "end_time": "2020-12-08T23:36:37.413376Z",
     "start_time": "2020-12-08T23:36:37.392785Z"
    }
   },
   "outputs": [
    {
     "name": "stdout",
     "output_type": "stream",
     "text": [
      "outside for loop - pop Q ---> shiny gold\n",
      "\tBAG: shiny gold\n",
      "\t\tINSIDE BAG: 1 of dark olive\n",
      "\tWeight: 1 bags added\n",
      "\tResulting q: deque(['dark olive'])\n",
      "****************************************************************************************************\n",
      "\tBAG: shiny gold\n",
      "\t\tINSIDE BAG: 2 of vibrant plum\n",
      "\tWeight: 2 bags added\n",
      "\tResulting q: deque(['dark olive', 'vibrant plum', 'vibrant plum'])\n",
      "****************************************************************************************************\n",
      "Ongoing Count: 3 bags added\n",
      "--------------------------------------------------\n",
      "outside for loop - pop Q ---> vibrant plum\n",
      "\tBAG: vibrant plum\n",
      "\t\tINSIDE BAG: 5 of faded blue\n",
      "\tWeight: 5 bags added\n",
      "\tResulting q: deque(['dark olive', 'vibrant plum', 'faded blue', 'faded blue', 'faded blue', 'faded blue', 'faded blue'])\n",
      "****************************************************************************************************\n",
      "\tBAG: vibrant plum\n",
      "\t\tINSIDE BAG: 6 of dotted black\n",
      "\tWeight: 6 bags added\n",
      "\tResulting q: deque(['dark olive', 'vibrant plum', 'faded blue', 'faded blue', 'faded blue', 'faded blue', 'faded blue', 'dotted black', 'dotted black', 'dotted black', 'dotted black', 'dotted black', 'dotted black'])\n",
      "****************************************************************************************************\n",
      "Ongoing Count: 14 bags added\n",
      "--------------------------------------------------\n",
      "outside for loop - pop Q ---> dotted black\n",
      "Ongoing Count: 14 bags added\n",
      "--------------------------------------------------\n",
      "outside for loop - pop Q ---> dotted black\n",
      "Ongoing Count: 14 bags added\n",
      "--------------------------------------------------\n",
      "outside for loop - pop Q ---> dotted black\n",
      "Ongoing Count: 14 bags added\n",
      "--------------------------------------------------\n",
      "outside for loop - pop Q ---> dotted black\n",
      "Ongoing Count: 14 bags added\n",
      "--------------------------------------------------\n",
      "outside for loop - pop Q ---> dotted black\n",
      "Ongoing Count: 14 bags added\n",
      "--------------------------------------------------\n",
      "outside for loop - pop Q ---> dotted black\n",
      "Ongoing Count: 14 bags added\n",
      "--------------------------------------------------\n",
      "outside for loop - pop Q ---> faded blue\n",
      "Ongoing Count: 14 bags added\n",
      "--------------------------------------------------\n",
      "outside for loop - pop Q ---> faded blue\n",
      "Ongoing Count: 14 bags added\n",
      "--------------------------------------------------\n",
      "outside for loop - pop Q ---> faded blue\n",
      "Ongoing Count: 14 bags added\n",
      "--------------------------------------------------\n",
      "outside for loop - pop Q ---> faded blue\n",
      "Ongoing Count: 14 bags added\n",
      "--------------------------------------------------\n",
      "outside for loop - pop Q ---> faded blue\n",
      "Ongoing Count: 14 bags added\n",
      "--------------------------------------------------\n",
      "outside for loop - pop Q ---> vibrant plum\n",
      "\tBAG: vibrant plum\n",
      "\t\tINSIDE BAG: 5 of faded blue\n",
      "\tWeight: 5 bags added\n",
      "\tResulting q: deque(['dark olive', 'faded blue', 'faded blue', 'faded blue', 'faded blue', 'faded blue'])\n",
      "****************************************************************************************************\n",
      "\tBAG: vibrant plum\n",
      "\t\tINSIDE BAG: 6 of dotted black\n",
      "\tWeight: 6 bags added\n",
      "\tResulting q: deque(['dark olive', 'faded blue', 'faded blue', 'faded blue', 'faded blue', 'faded blue', 'dotted black', 'dotted black', 'dotted black', 'dotted black', 'dotted black', 'dotted black'])\n",
      "****************************************************************************************************\n",
      "Ongoing Count: 25 bags added\n",
      "--------------------------------------------------\n",
      "outside for loop - pop Q ---> dotted black\n",
      "Ongoing Count: 25 bags added\n",
      "--------------------------------------------------\n",
      "outside for loop - pop Q ---> dotted black\n",
      "Ongoing Count: 25 bags added\n",
      "--------------------------------------------------\n",
      "outside for loop - pop Q ---> dotted black\n",
      "Ongoing Count: 25 bags added\n",
      "--------------------------------------------------\n",
      "outside for loop - pop Q ---> dotted black\n",
      "Ongoing Count: 25 bags added\n",
      "--------------------------------------------------\n",
      "outside for loop - pop Q ---> dotted black\n",
      "Ongoing Count: 25 bags added\n",
      "--------------------------------------------------\n",
      "outside for loop - pop Q ---> dotted black\n",
      "Ongoing Count: 25 bags added\n",
      "--------------------------------------------------\n",
      "outside for loop - pop Q ---> faded blue\n",
      "Ongoing Count: 25 bags added\n",
      "--------------------------------------------------\n",
      "outside for loop - pop Q ---> faded blue\n",
      "Ongoing Count: 25 bags added\n",
      "--------------------------------------------------\n",
      "outside for loop - pop Q ---> faded blue\n",
      "Ongoing Count: 25 bags added\n",
      "--------------------------------------------------\n",
      "outside for loop - pop Q ---> faded blue\n",
      "Ongoing Count: 25 bags added\n",
      "--------------------------------------------------\n",
      "outside for loop - pop Q ---> faded blue\n",
      "Ongoing Count: 25 bags added\n",
      "--------------------------------------------------\n",
      "outside for loop - pop Q ---> dark olive\n",
      "\tBAG: dark olive\n",
      "\t\tINSIDE BAG: 3 of faded blue\n",
      "\tWeight: 3 bags added\n",
      "\tResulting q: deque(['faded blue', 'faded blue', 'faded blue'])\n",
      "****************************************************************************************************\n",
      "\tBAG: dark olive\n",
      "\t\tINSIDE BAG: 4 of dotted black\n",
      "\tWeight: 4 bags added\n",
      "\tResulting q: deque(['faded blue', 'faded blue', 'faded blue', 'dotted black', 'dotted black', 'dotted black', 'dotted black'])\n",
      "****************************************************************************************************\n",
      "Ongoing Count: 32 bags added\n",
      "--------------------------------------------------\n",
      "outside for loop - pop Q ---> dotted black\n",
      "Ongoing Count: 32 bags added\n",
      "--------------------------------------------------\n",
      "outside for loop - pop Q ---> dotted black\n",
      "Ongoing Count: 32 bags added\n",
      "--------------------------------------------------\n",
      "outside for loop - pop Q ---> dotted black\n",
      "Ongoing Count: 32 bags added\n",
      "--------------------------------------------------\n",
      "outside for loop - pop Q ---> dotted black\n",
      "Ongoing Count: 32 bags added\n",
      "--------------------------------------------------\n",
      "outside for loop - pop Q ---> faded blue\n",
      "Ongoing Count: 32 bags added\n",
      "--------------------------------------------------\n",
      "outside for loop - pop Q ---> faded blue\n",
      "Ongoing Count: 32 bags added\n",
      "--------------------------------------------------\n",
      "outside for loop - pop Q ---> faded blue\n",
      "Ongoing Count: 32 bags added\n",
      "--------------------------------------------------\n"
     ]
    },
    {
     "data": {
      "text/plain": [
       "32"
      ]
     },
     "execution_count": 10,
     "metadata": {},
     "output_type": "execute_result"
    }
   ],
   "source": [
    "# https://www.reddit.com/r/adventofcode/comments/k8iun0/what_is_the_cleanestcanonical_day_7_part_1/gey9mzo/\n",
    "from collections import deque\n",
    "\n",
    "def part2(graph, bag=\"shiny gold\"):\n",
    "    count = 0\n",
    "    q = deque([bag])\n",
    "#     print(graph)\n",
    "    while q:\n",
    "\n",
    "        \n",
    "        p_q = q.pop()\n",
    "        print(f\"outside for loop - pop Q ---> {p_q}\")\n",
    "        for color, weight in graph[p_q]:\n",
    "            print(f\"\\tBAG: {p_q}\")\n",
    "            \n",
    "            print(f\"\\t\\tINSIDE BAG: {weight} of {color}\")\n",
    "            count += weight\n",
    "            q.extend([color] * weight)\n",
    "            print(f\"\\tWeight: {weight} bags added\")\n",
    "            print(f\"\\tResulting q: {q}\")\n",
    "            print(\"**\"*50)\n",
    "        print(f\"Ongoing Count: {count} bags added\")\n",
    "        print(\"-\"*50)\n",
    "    return count\n",
    "\n",
    "part2(all_bags)"
   ]
  },
  {
   "cell_type": "code",
   "execution_count": 11,
   "metadata": {
    "ExecuteTime": {
     "end_time": "2020-12-08T23:36:41.445794Z",
     "start_time": "2020-12-08T23:36:41.327817Z"
    }
   },
   "outputs": [
    {
     "data": {
      "text/plain": [
       "421550"
      ]
     },
     "execution_count": 11,
     "metadata": {},
     "output_type": "execute_result"
    }
   ],
   "source": [
    "### Part 2 Re-Implement\n",
    "\n",
    "all_bags = dict()\n",
    "for line in bags:\n",
    "#     print(line)\n",
    "    key_bag = re.search(\"[\\D]*(?= bags contain)\",line)[0]\n",
    "    inner_bags = re.split(\",\",line.split(\" contain \")[1])\n",
    "    \n",
    "    #clean inner_bags\n",
    "    inner_bags= [x.strip(\".\").strip(\"bags\").strip(\"bag\").strip() \\\n",
    "                 for x in inner_bags ]\n",
    "    inner_bag_list = list()\n",
    "    for subbags in inner_bags:\n",
    "        if subbags == 'no other':\n",
    "            inner_bag_list=[]\n",
    "        else:\n",
    "            inner_bag_list.append((re.split(\"(?<=[\\d]) \",subbags)[1],int(re.split(\"(?<=[\\d]) \",subbags)[0])))\n",
    "    all_bags[key_bag]=inner_bag_list\n",
    "all_bags #dictionary with list of tuples for inner bags\n",
    "\n",
    "def part_2_bn(bag_map,starter = 'shiny gold'):\n",
    "    #Create total bag count for running total\n",
    "    total_bag_count = 0\n",
    "    #Create queue to be added to and removed as bags are filtered downwards\n",
    "    queue = deque([starter])\n",
    "    \n",
    "    while queue:\n",
    "        last_bag = queue.pop()\n",
    "        for bag_color, num_bags in bag_map[last_bag]: #get all the inner bags for last_bag\n",
    "            \n",
    "            #add num bags to running total\n",
    "            total_bag_count += num_bags\n",
    "            #Add number of colored bags to queue\n",
    "            queue.extend([bag_color]*num_bags)\n",
    "            \n",
    "    return total_bag_count\n",
    "\n",
    "part_2_bn(all_bags)"
   ]
  },
  {
   "cell_type": "code",
   "execution_count": null,
   "metadata": {},
   "outputs": [],
   "source": []
  }
 ],
 "metadata": {
  "kernelspec": {
   "display_name": "Python 3",
   "language": "python",
   "name": "python3"
  },
  "language_info": {
   "codemirror_mode": {
    "name": "ipython",
    "version": 3
   },
   "file_extension": ".py",
   "mimetype": "text/x-python",
   "name": "python",
   "nbconvert_exporter": "python",
   "pygments_lexer": "ipython3",
   "version": "3.7.6"
  }
 },
 "nbformat": 4,
 "nbformat_minor": 4
}
