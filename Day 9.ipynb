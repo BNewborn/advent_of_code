{
 "cells": [
  {
   "cell_type": "markdown",
   "metadata": {},
   "source": [
    "https://adventofcode.com/2020/day/9"
   ]
  },
  {
   "cell_type": "code",
   "execution_count": 1,
   "metadata": {
    "ExecuteTime": {
     "end_time": "2020-12-09T21:55:15.647360Z",
     "start_time": "2020-12-09T21:55:15.618130Z"
    }
   },
   "outputs": [
    {
     "data": {
      "text/plain": [
       "[27, 31, 3, 26]"
      ]
     },
     "execution_count": 1,
     "metadata": {},
     "output_type": "execute_result"
    }
   ],
   "source": [
    "with open('./data/day9_input.txt', 'r',newline=\"\\n\") as reader:\n",
    "    code = reader.readlines()\n",
    "code=[int(x) for x in code]\n",
    "code[1:5]"
   ]
  },
  {
   "cell_type": "code",
   "execution_count": 2,
   "metadata": {
    "ExecuteTime": {
     "end_time": "2020-12-09T21:55:15.664818Z",
     "start_time": "2020-12-09T21:55:15.653738Z"
    }
   },
   "outputs": [
    {
     "name": "stdout",
     "output_type": "stream",
     "text": [
      "Found breaker: 127\n"
     ]
    }
   ],
   "source": [
    "# Try solution on test case\n",
    "\n",
    "test_list = [35,20,15,25,47,40,62,55,65,95,102,117,150,182,127,219,299,277,309,576]\n",
    "len_before = 5\n",
    "for i in range(len_before,len(test_list)):\n",
    "    #start with default that number is not sum of past 5\n",
    "    num_good = False\n",
    "#     print(test_list[i])\n",
    "    pre = test_list[i-5:i]\n",
    "#     print(f\"\\t Last {len_before}: {pre}\")\n",
    "    \n",
    "    #loop through all possible pairs of last 5\n",
    "    for j_idx,j in enumerate(pre):\n",
    "        for k in pre[j_idx+1:]:\n",
    "            if j + k == test_list[i]:\n",
    "                num_good=True\n",
    "    \n",
    "    if num_good == False:\n",
    "        print(f\"Found breaker: {test_list[i]}\")\n",
    "        break"
   ]
  },
  {
   "cell_type": "markdown",
   "metadata": {},
   "source": [
    "The first step of attacking the weakness in the XMAS data is to find the first number in the list (after the preamble) which is not the sum of two of the 25 numbers before it. What is the first number that does not have this property?"
   ]
  },
  {
   "cell_type": "code",
   "execution_count": 3,
   "metadata": {
    "ExecuteTime": {
     "end_time": "2020-12-09T21:55:15.708470Z",
     "start_time": "2020-12-09T21:55:15.667512Z"
    }
   },
   "outputs": [
    {
     "name": "stdout",
     "output_type": "stream",
     "text": [
      "Found breaker: 373803594\n"
     ]
    },
    {
     "data": {
      "text/plain": [
       "373803594"
      ]
     },
     "execution_count": 3,
     "metadata": {},
     "output_type": "execute_result"
    }
   ],
   "source": [
    "# Part 1\n",
    "len_before = 25\n",
    "for i in range(len_before,len(code)):\n",
    "    #start with default that number is not sum of past 25\n",
    "    num_good = False\n",
    "#     print(test_list[i])\n",
    "    pre = code[i-len_before:i]\n",
    "#     print(f\"\\t Last {len_before}: {pre}\")\n",
    "    \n",
    "    #loop through all possible pairs of last 25\n",
    "    for j_idx,j in enumerate(pre):\n",
    "        for k in pre[j_idx+1:]:\n",
    "            if j + k == code[i]:\n",
    "                num_good=True\n",
    "    \n",
    "    if num_good == False:\n",
    "        print(f\"Found breaker: {code[i]}\")\n",
    "        break\n",
    "invalid_num = code[i]\n",
    "invalid_num"
   ]
  },
  {
   "cell_type": "code",
   "execution_count": null,
   "metadata": {
    "ExecuteTime": {
     "end_time": "2020-12-09T21:44:29.622473Z",
     "start_time": "2020-12-09T21:44:29.610356Z"
    }
   },
   "outputs": [],
   "source": []
  },
  {
   "cell_type": "markdown",
   "metadata": {},
   "source": [
    "### Part 2\n",
    "The final step in breaking the XMAS encryption relies on the invalid number you just found: you must find a contiguous set of at least two numbers in your list which sum to the invalid number from step 1."
   ]
  },
  {
   "cell_type": "code",
   "execution_count": 4,
   "metadata": {
    "ExecuteTime": {
     "end_time": "2020-12-09T21:55:15.734377Z",
     "start_time": "2020-12-09T21:55:15.713886Z"
    }
   },
   "outputs": [
    {
     "name": "stdout",
     "output_type": "stream",
     "text": [
      "51152360\n"
     ]
    }
   ],
   "source": [
    "for length in range(2,int(len(code))):\n",
    "    found = False #breaker\n",
    "    #Length is window of nums we're checking\n",
    "    \n",
    "    #start looping through all possible indices in list\n",
    "    for i in range(0,len(code)):\n",
    "        found = False #breaker\n",
    "        #get sum of list from i to i+length\n",
    "        t = sum(code[i:i+length])\n",
    "        #Check if t == invalid_num, if so, flip found to true which will break the loops\n",
    "        if t == invalid_num:\n",
    "            found = True\n",
    "        #break out of indices loop (i)\n",
    "        if found:\n",
    "            break\n",
    "    #break out of length loop (length)\n",
    "    if found:\n",
    "        break\n",
    "#change to np.array for easy max min (I think )   \n",
    "\n",
    "print(max(code[i:i+length])+min(code[i:i+length]))"
   ]
  },
  {
   "cell_type": "code",
   "execution_count": null,
   "metadata": {},
   "outputs": [],
   "source": []
  }
 ],
 "metadata": {
  "kernelspec": {
   "display_name": "Python 3",
   "language": "python",
   "name": "python3"
  },
  "language_info": {
   "codemirror_mode": {
    "name": "ipython",
    "version": 3
   },
   "file_extension": ".py",
   "mimetype": "text/x-python",
   "name": "python",
   "nbconvert_exporter": "python",
   "pygments_lexer": "ipython3",
   "version": "3.7.6"
  }
 },
 "nbformat": 4,
 "nbformat_minor": 4
}
